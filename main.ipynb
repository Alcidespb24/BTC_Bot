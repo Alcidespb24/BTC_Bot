{
 "cells": [
  {
   "cell_type": "code",
   "execution_count": 1,
   "metadata": {},
   "outputs": [
    {
     "data": {
      "text/html": [
       "<div>\n",
       "<style scoped>\n",
       "    .dataframe tbody tr th:only-of-type {\n",
       "        vertical-align: middle;\n",
       "    }\n",
       "\n",
       "    .dataframe tbody tr th {\n",
       "        vertical-align: top;\n",
       "    }\n",
       "\n",
       "    .dataframe thead th {\n",
       "        text-align: right;\n",
       "    }\n",
       "</style>\n",
       "<table border=\"1\" class=\"dataframe\">\n",
       "  <thead>\n",
       "    <tr style=\"text-align: right;\">\n",
       "      <th></th>\n",
       "      <th>buying_power</th>\n",
       "      <th>status</th>\n",
       "      <th>cash</th>\n",
       "    </tr>\n",
       "  </thead>\n",
       "  <tbody>\n",
       "    <tr>\n",
       "      <th>0</th>\n",
       "      <td>2.74</td>\n",
       "      <td>AccountStatus.ACTIVE</td>\n",
       "      <td>1.37</td>\n",
       "    </tr>\n",
       "  </tbody>\n",
       "</table>\n",
       "</div>"
      ],
      "text/plain": [
       "  buying_power                status  cash\n",
       "0         2.74  AccountStatus.ACTIVE  1.37"
      ]
     },
     "execution_count": 1,
     "metadata": {},
     "output_type": "execute_result"
    }
   ],
   "source": [
    "from alpaca.trading.client import TradingClient, GetAssetsRequest\n",
    "import os\n",
    "import config as cg\n",
    "from alpaca.trading.enums import OrderSide, OrderType, TimeInForce\n",
    "from alpaca.trading.requests import MarketOrderRequest, LimitOrderRequest, StopOrderRequest, StopLimitOrderRequest\n",
    "from alpaca.trading.stream import TradingStream\n",
    "from alpaca.data.requests import CryptoLatestQuoteRequest\n",
    "from alpaca.data.historical import CryptoHistoricalDataClient\n",
    "import numpy as np\n",
    "import pandas as pd\n",
    "\n",
    "client = TradingClient(cg.api_key, cg.secret_key, paper=True)\n",
    "\n",
    "account = dict(client.get_account())\n",
    "df = pd.DataFrame(account, index=[0])   \n",
    "df = df[['buying_power', 'status', 'cash']]\n",
    "df"
   ]
  },
  {
   "cell_type": "code",
   "execution_count": 2,
   "metadata": {},
   "outputs": [
    {
     "data": {
      "text/plain": [
       "{'BTC/USD': {   'ask_exchange': None,\n",
       "     'ask_price': 64201.49,\n",
       "     'ask_size': 0.2787,\n",
       "     'bid_exchange': None,\n",
       "     'bid_price': 64144.1,\n",
       "     'bid_size': 0.2762,\n",
       "     'conditions': None,\n",
       "     'symbol': 'BTC/USD',\n",
       "     'tape': None,\n",
       "     'timestamp': datetime.datetime(2024, 8, 25, 4, 48, 2, 384380, tzinfo=TzInfo(UTC))}}"
      ]
     },
     "execution_count": 2,
     "metadata": {},
     "output_type": "execute_result"
    }
   ],
   "source": [
    "data_client = CryptoHistoricalDataClient()\n",
    "\n",
    "request_params = CryptoLatestQuoteRequest(symbol_or_symbols=\"BTC/USD\")\n",
    "\n",
    "latest_quote = data_client.get_crypto_latest_quote(request_params)\n",
    "latest_quote"
   ]
  },
  {
   "cell_type": "code",
   "execution_count": 150,
   "metadata": {},
   "outputs": [
    {
     "data": {
      "text/plain": [
       "1    60542.0\n",
       "Name: ask_price, dtype: object"
      ]
     },
     "execution_count": 150,
     "metadata": {},
     "output_type": "execute_result"
    }
   ],
   "source": [
    "df_price = pd.concat({k: pd.DataFrame(v) for k, v in latest_quote.items()}, axis=0)\n",
    "df_price.drop(columns=[0], inplace=True)\n",
    "df_price.rename(index={0: 'symbol', 1:'time', 2:'ask_price', 3:'ask_size', 4:'bid_exchange', 5:'bid_price', 6:'bid_size' }, inplace=True)\n",
    "df_price = df_price.T\n",
    "df_price.columns = df_price.columns.droplevel(0)\n",
    "df_price['ask_price']"
   ]
  },
  {
   "cell_type": "code",
   "execution_count": null,
   "metadata": {},
   "outputs": [],
   "source": []
  },
  {
   "cell_type": "code",
   "execution_count": null,
   "metadata": {},
   "outputs": [],
   "source": []
  },
  {
   "cell_type": "code",
   "execution_count": null,
   "metadata": {},
   "outputs": [],
   "source": [
    "order_details = MarketOrderRequest(symbol='BTCUSD', qty=0.01, side=OrderSide.BUY, time_in_force=TimeInForce.GTC)\n",
    "\n",
    "order = client.submit_order(order_details)"
   ]
  },
  {
   "cell_type": "code",
   "execution_count": null,
   "metadata": {},
   "outputs": [],
   "source": []
  },
  {
   "cell_type": "code",
   "execution_count": null,
   "metadata": {},
   "outputs": [],
   "source": []
  }
 ],
 "metadata": {
  "kernelspec": {
   "display_name": "Python 3",
   "language": "python",
   "name": "python3"
  },
  "language_info": {
   "codemirror_mode": {
    "name": "ipython",
    "version": 3
   },
   "file_extension": ".py",
   "mimetype": "text/x-python",
   "name": "python",
   "nbconvert_exporter": "python",
   "pygments_lexer": "ipython3",
   "version": "3.12.4"
  }
 },
 "nbformat": 4,
 "nbformat_minor": 2
}
